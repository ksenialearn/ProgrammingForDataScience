{
 "cells": [
  {
   "cell_type": "markdown",
   "metadata": {
    "nbgrader": {
     "grade": false,
     "locked": false,
     "solution": false
    },
    "slideshow": {
     "slide_type": "-"
    }
   },
   "source": [
    "# Assignment 1"
   ]
  },
  {
   "cell_type": "markdown",
   "metadata": {},
   "source": [
    "## 1. (1.0 point) Function return value\n",
    "\n",
    "This exercise is to show you how function return values work. Run the code below to see what happens."
   ]
  },
  {
   "cell_type": "code",
   "execution_count": 1,
   "metadata": {
    "nbgrader": {
     "grade": false,
     "grade_id": "Q1A",
     "locked": true,
     "solution": false
    }
   },
   "outputs": [
    {
     "name": "stdout",
     "output_type": "stream",
     "text": [
      "5\n"
     ]
    },
    {
     "data": {
      "text/plain": [
       "5"
      ]
     },
     "execution_count": 1,
     "metadata": {},
     "output_type": "execute_result"
    }
   ],
   "source": [
    "def f1(x):\n",
    "    print(x + 1)\n",
    "\n",
    "def f2(x):\n",
    "    return(x + 1)\n",
    "\n",
    "f1(4)\n",
    "f2(4)"
   ]
  },
  {
   "cell_type": "markdown",
   "metadata": {},
   "source": [
    "Each function should produce the same output. Now run the following code."
   ]
  },
  {
   "cell_type": "code",
   "execution_count": 2,
   "metadata": {},
   "outputs": [
    {
     "name": "stdout",
     "output_type": "stream",
     "text": [
      "5\n"
     ]
    },
    {
     "ename": "TypeError",
     "evalue": "unsupported operand type(s) for +: 'NoneType' and 'int'",
     "output_type": "error",
     "traceback": [
      "\u001b[0;31m---------------------------------------------------\u001b[0m",
      "\u001b[0;31mTypeError\u001b[0m         Traceback (most recent call last)",
      "\u001b[0;32m<ipython-input-2-02362f8b3abb>\u001b[0m in \u001b[0;36m<module>\u001b[0;34m()\u001b[0m\n\u001b[0;32m----> 1\u001b[0;31m \u001b[0mf1\u001b[0m\u001b[0;34m(\u001b[0m\u001b[0;36m4\u001b[0m\u001b[0;34m)\u001b[0m \u001b[0;34m+\u001b[0m \u001b[0;36m1\u001b[0m\u001b[0;34m\u001b[0m\u001b[0m\n\u001b[0m\u001b[1;32m      2\u001b[0m \u001b[0mf2\u001b[0m\u001b[0;34m(\u001b[0m\u001b[0;36m4\u001b[0m\u001b[0;34m)\u001b[0m \u001b[0;34m+\u001b[0m \u001b[0;36m1\u001b[0m\u001b[0;34m\u001b[0m\u001b[0m\n",
      "\u001b[0;31mTypeError\u001b[0m: unsupported operand type(s) for +: 'NoneType' and 'int'"
     ]
    }
   ],
   "source": [
    "f1(4) + 1\n",
    "f2(4) + 1"
   ]
  },
  {
   "cell_type": "markdown",
   "metadata": {},
   "source": [
    "Explain what is happening and why you get this result.\n",
    "\n",
    "f2 returns a value - in this case 5, which is an integer. Hence we can add another integer to it.\n",
    "\n",
    "f1, on the other hand, returns a value None - because we didn't provide a return statement explicitly. \n",
    "The print statement does not return a value to the function - instead, it just shows a value on the screen. It\n",
    "does not save the value for the program."
   ]
  },
  {
   "cell_type": "markdown",
   "metadata": {},
   "source": [
    "## 2. (1.0 point) Function operation"
   ]
  },
  {
   "cell_type": "markdown",
   "metadata": {},
   "source": [
    "Consider the following piece of code:\n",
    "\n",
    "```python\n",
    "def f(x):\n",
    "    if x == 0 or x == 1:\n",
    "        return x\n",
    "    return f(x - 1) + f(x - 2)\n",
    "```"
   ]
  },
  {
   "cell_type": "markdown",
   "metadata": {},
   "source": [
    "Describe, in words, what this code does, and how it does it.\n",
    "\n",
    "This is a recursive function that reduces a value by 1.\n",
    "\n",
    "First it takes a value and checks if it is equal to 0 or 1. If it is equal to 0, it will return 0. If it is equal to 1, it will return 1.\n",
    "\n",
    "If the value is not 0 nor 1, it will calculate f(x-1) + f(x-2), which is recursion. In case of 2, the output will be 1. In case of 3, the output will be 2. In case of 4, the output is 4, etc."
   ]
  },
  {
   "cell_type": "markdown",
   "metadata": {},
   "source": [
    "For what inputs will this function not behave as expected? What will happen?\n",
    "\n",
    "For negatie values, this function will not converge as the values will continue getting more negative. \n",
    "This function also will not work for some data types, such as Strings - we would receive an error."
   ]
  },
  {
   "cell_type": "markdown",
   "metadata": {
    "slideshow": {
     "slide_type": "-"
    }
   },
   "source": [
    "## 3. (1.0 point) Defining a function\n",
    "\n",
    "The following program plays the game of \"Rock, Paper, and Scissors\". Familiarize yourself with how it works. Try running the program."
   ]
  },
  {
   "cell_type": "code",
   "execution_count": 3,
   "metadata": {
    "nbgrader": {
     "grade": false,
     "grade_id": "Q3A",
     "locked": true,
     "solution": false
    },
    "slideshow": {
     "slide_type": "-"
    }
   },
   "outputs": [
    {
     "name": "stdout",
     "output_type": "stream",
     "text": [
      "You are playing a Rock, Paper, Scissors simulation.\n",
      "Select R for rock, P for Paper, S for scissors, Q to quit\n",
      "> R\n",
      "Computer chooses P\n",
      "Computer wins!\n",
      "Select R for rock, P for Paper, S for scissors, Q to quit\n",
      "> P\n",
      "Computer chooses R\n",
      "You win!\n",
      "Select R for rock, P for Paper, S for scissors, Q to quit\n",
      "> S\n",
      "Computer chooses P\n",
      "You win!\n",
      "Select R for rock, P for Paper, S for scissors, Q to quit\n",
      "> Q\n"
     ]
    }
   ],
   "source": [
    "from random import randint\n",
    "valid_input = [\"R\", \"P\", \"S\"]\n",
    "winners = [[\"R\", \"S\"], [\"S\", \"P\"], [\"P\", \"R\"]]\n",
    "\n",
    "print(\"You are playing a Rock, Paper, Scissors simulation.\")\n",
    "user_choice = input(\"Select R for rock, P for Paper, S for scissors, Q to quit\\n> \")\n",
    "user_choice = user_choice.upper()\n",
    "\n",
    "while user_choice != 'Q':\n",
    "    if user_choice not in valid_input:\n",
    "        print(\"Error: invalid input -- \" + user_choice)\n",
    "        break\n",
    "    \n",
    "    computer_choice = valid_input[randint(0, len(valid_input)-1)]\n",
    "    print(\"Computer chooses \" + computer_choice)\n",
    "\n",
    "    if user_choice == computer_choice:\n",
    "        print(\"Tie Game\")\n",
    "    elif [user_choice, computer_choice] in winners:\n",
    "        print(\"You win!\")\n",
    "    else:\n",
    "        print(\"Computer wins!\")\n",
    "    \n",
    "    user_choice = input(\"Select R for rock, P for Paper, S for scissors, Q to quit\\n> \")\n",
    "    user_choice = user_choice.upper()"
   ]
  },
  {
   "cell_type": "markdown",
   "metadata": {
    "slideshow": {
     "slide_type": "-"
    }
   },
   "source": [
    "Recall how we define a function using `def`, and how we pass in parameters. Transform the code into a function called `rps` that takes two parameters: `user_choice` and `computer_choice`, with valid inputs `'R'`, `'P'`, and `'S'`. Your function should return `'D'` for a draw, `'W'` if `user_choice` wins, and `'L'` if `user_choice` loses."
   ]
  },
  {
   "cell_type": "code",
   "execution_count": 4,
   "metadata": {
    "collapsed": true
   },
   "outputs": [],
   "source": [
    "### BEGIN SOLUTION\n",
    "def rps(user_choice, computer_choice):\n",
    "    ''' Function that takes two parameters: user_choice and computer_choice, with valid inputs R, P, S.\n",
    "    It returns D for a draw, W if user wins, and L if user loses.'''\n",
    "    \n",
    "    winners = [[\"R\", \"S\"], [\"S\", \"P\"], [\"P\", \"R\"]]\n",
    "    \n",
    "    if user_choice == computer_choice:\n",
    "        return 'D'\n",
    "    elif [user_choice, computer_choice] in winners:\n",
    "        return 'W'\n",
    "    else:\n",
    "        return 'L'\n",
    "    \n",
    "### END SOLUTION"
   ]
  },
  {
   "cell_type": "code",
   "execution_count": 6,
   "metadata": {
    "collapsed": true,
    "nbgrader": {
     "grade": true,
     "grade_id": "Q3C",
     "locked": true,
     "points": 1,
     "solution": false
    }
   },
   "outputs": [],
   "source": [
    "from nose.tools import assert_equal\n",
    "assert_equal(rps('R', 'R'), 'D')\n",
    "assert_equal(rps('R', 'P'), 'L')\n",
    "assert_equal(rps('R', 'S'), 'W')\n",
    "assert_equal(rps('P', 'R'), 'W')\n",
    "assert_equal(rps('P', 'P'), 'D')\n",
    "assert_equal(rps('P', 'S'), 'L')\n",
    "assert_equal(rps('S', 'R'), 'L')\n",
    "assert_equal(rps('S', 'P'), 'W')\n",
    "assert_equal(rps('S', 'S'), 'D')"
   ]
  },
  {
   "cell_type": "markdown",
   "metadata": {},
   "source": [
    "## 4. (1.0 point) List function"
   ]
  },
  {
   "cell_type": "markdown",
   "metadata": {},
   "source": [
    "Given a list of non-empty tuples, return a list sorted in increasing order by the last element in each tuple. \n",
    "\n",
    "For example: `[(1, 7), (1, 3), (3, 4, 5), (2, 2)]` yields `[(2, 2), (1, 3), (3, 4, 5), (1, 7)]`"
   ]
  },
  {
   "cell_type": "code",
   "execution_count": null,
   "metadata": {
    "collapsed": true,
    "nbgrader": {
     "grade": false,
     "grade_id": "Q4A",
     "locked": false,
     "solution": true
    }
   },
   "outputs": [],
   "source": [
    "def sort_tuple_list(tuple_list):\n",
    "    '''Function to sort a list of non-empty tuples in increasing order by the last element in each tuple'''\n",
    "    ### BEGIN SOLUTION\n",
    "    ### END SOLUTION"
   ]
  },
  {
   "cell_type": "code",
   "execution_count": null,
   "metadata": {
    "collapsed": true,
    "nbgrader": {
     "grade": true,
     "grade_id": "Q4B",
     "locked": true,
     "points": 1,
     "solution": false
    }
   },
   "outputs": [],
   "source": [
    "from nose.tools import assert_equal\n",
    "assert_equal(sort_tuple_list([(1, 3), (3, 2), (2, 1)]), [(2, 1), (3, 2), (1, 3)])\n",
    "assert_equal(sort_tuple_list([(2, 3), (1, 2), (3, 1)]), [(3, 1), (1, 2), (2, 3)])\n",
    "assert_equal(sort_tuple_list([(1, 7), (1, 3), (3, 4, 5), (2, 2)]), [(2, 2), (1, 3), (3, 4, 5), (1, 7)])"
   ]
  },
  {
   "cell_type": "markdown",
   "metadata": {},
   "source": [
    "# 5. (1.0 point) List sort"
   ]
  },
  {
   "cell_type": "markdown",
   "metadata": {},
   "source": [
    "Given two lists sorted in increasing order, create and return a merged list of all the elements in sorted order. You may modify the passed in lists. Ideally, the solution should work in \"linear\" time, making a single pass of both lists."
   ]
  },
  {
   "cell_type": "code",
   "execution_count": null,
   "metadata": {
    "collapsed": true,
    "nbgrader": {
     "grade": false,
     "grade_id": "Q5A",
     "locked": false,
     "solution": true
    }
   },
   "outputs": [],
   "source": [
    "def list_merge(list1, list2):\n",
    "    '''Given two lists sorted in increasing order, create and \n",
    "       return a merged list of all the elements in sorted order\n",
    "    '''\n",
    "    ### BEGIN SOLUTION\n",
    "    ### END SOLUTION"
   ]
  },
  {
   "cell_type": "code",
   "execution_count": null,
   "metadata": {
    "collapsed": true,
    "nbgrader": {
     "grade": true,
     "grade_id": "Q5B",
     "locked": true,
     "points": 1,
     "solution": false
    }
   },
   "outputs": [],
   "source": [
    "from nose.tools import assert_equal\n",
    "assert_equal(list_merge(['aa', 'xx', 'zz'], ['bb', 'cc']), ['aa', 'bb', 'cc', 'xx', 'zz'])\n",
    "assert_equal(list_merge(['aa', 'xx'], ['bb', 'cc', 'zz']), ['aa', 'bb', 'cc', 'xx', 'zz'])\n",
    "assert_equal(list_merge(['aa', 'aa'], ['aa', 'bb', 'bb']), ['aa', 'aa', 'aa', 'bb', 'bb'])"
   ]
  },
  {
   "cell_type": "markdown",
   "metadata": {},
   "source": [
    "# 6. (1.0 point) Built-in Operator"
   ]
  },
  {
   "cell_type": "markdown",
   "metadata": {},
   "source": [
    "Imagine that Python doesn’t have the `!=` operator built in. Write a function that takes two parameters and gives the same result as the `!=` operator. Obviously, you cannot use `!=` within your function! Test if your code works by thinking of examples and making sure the output is the same for your new method as `!=` gives you."
   ]
  },
  {
   "cell_type": "code",
   "execution_count": null,
   "metadata": {
    "collapsed": true,
    "nbgrader": {
     "grade": false,
     "grade_id": "Q6A",
     "locked": false,
     "solution": true
    }
   },
   "outputs": [],
   "source": [
    "def not_equal(val1, val2):\n",
    "    ''' User supplied version of the != operator, implemeted without using !='''\n",
    "    ### BEGIN SOLUTION\n",
    "    ### END SOLUTION"
   ]
  },
  {
   "cell_type": "code",
   "execution_count": 3,
   "metadata": {
    "nbgrader": {
     "grade": true,
     "grade_id": "Q6B",
     "locked": true,
     "points": 1,
     "solution": false
    }
   },
   "outputs": [
    {
     "ename": "NameError",
     "evalue": "name 'not_equal' is not defined",
     "output_type": "error",
     "traceback": [
      "\u001b[0;31m---------------------------------------------------------------------------\u001b[0m",
      "\u001b[0;31mNameError\u001b[0m                                 Traceback (most recent call last)",
      "\u001b[0;32m<ipython-input-3-d9667c7ec52c>\u001b[0m in \u001b[0;36m<module>\u001b[0;34m()\u001b[0m\n\u001b[1;32m      1\u001b[0m \u001b[0;32mfrom\u001b[0m \u001b[0mnose\u001b[0m\u001b[0;34m.\u001b[0m\u001b[0mtools\u001b[0m \u001b[0;32mimport\u001b[0m \u001b[0massert_true\u001b[0m\u001b[0;34m,\u001b[0m \u001b[0massert_false\u001b[0m\u001b[0;34m\u001b[0m\u001b[0m\n\u001b[0;32m----> 2\u001b[0;31m \u001b[0massert_true\u001b[0m\u001b[0;34m(\u001b[0m\u001b[0mnot_equal\u001b[0m\u001b[0;34m(\u001b[0m\u001b[0;36m2\u001b[0m\u001b[0;34m,\u001b[0m\u001b[0;36m3\u001b[0m\u001b[0;34m)\u001b[0m\u001b[0;34m)\u001b[0m\u001b[0;34m\u001b[0m\u001b[0m\n\u001b[0m\u001b[1;32m      3\u001b[0m \u001b[0massert_false\u001b[0m\u001b[0;34m(\u001b[0m\u001b[0mnot_equal\u001b[0m\u001b[0;34m(\u001b[0m\u001b[0;36m3\u001b[0m\u001b[0;34m,\u001b[0m\u001b[0;36m3\u001b[0m\u001b[0;34m)\u001b[0m\u001b[0;34m)\u001b[0m\u001b[0;34m\u001b[0m\u001b[0m\n\u001b[1;32m      4\u001b[0m \u001b[0massert_true\u001b[0m\u001b[0;34m(\u001b[0m\u001b[0mnot_equal\u001b[0m\u001b[0;34m(\u001b[0m\u001b[0;34m'3'\u001b[0m\u001b[0;34m,\u001b[0m\u001b[0;36m3\u001b[0m\u001b[0;34m)\u001b[0m\u001b[0;34m)\u001b[0m\u001b[0;34m\u001b[0m\u001b[0m\n\u001b[1;32m      5\u001b[0m \u001b[0massert_true\u001b[0m\u001b[0;34m(\u001b[0m\u001b[0mnot_equal\u001b[0m\u001b[0;34m(\u001b[0m\u001b[0;34m(\u001b[0m\u001b[0;36m1\u001b[0m\u001b[0;34m,\u001b[0m\u001b[0;36m2\u001b[0m\u001b[0;34m)\u001b[0m\u001b[0;34m,\u001b[0m\u001b[0;34m[\u001b[0m\u001b[0;36m1\u001b[0m\u001b[0;34m,\u001b[0m\u001b[0;36m2\u001b[0m\u001b[0;34m]\u001b[0m\u001b[0;34m)\u001b[0m\u001b[0;34m)\u001b[0m\u001b[0;34m\u001b[0m\u001b[0m\n",
      "\u001b[0;31mNameError\u001b[0m: name 'not_equal' is not defined"
     ]
    }
   ],
   "source": [
    "from nose.tools import assert_true, assert_false\n",
    "assert_true(not_equal(2,3))\n",
    "assert_false(not_equal(3,3))\n",
    "assert_true(not_equal('3',3))\n",
    "assert_true(not_equal((1,2),[1,2]))\n",
    "assert_false(not_equal((3,4),(3,4)))"
   ]
  },
  {
   "cell_type": "markdown",
   "metadata": {},
   "source": [
    "## 7. (1.5 point) Quadratic Formula"
   ]
  },
  {
   "cell_type": "markdown",
   "metadata": {},
   "source": [
    "A quadratic equation is a second order polynomial with three coefficients a, b, and c. It is given by:\n",
    "\n",
    "$$ax^2 + bx + c = 0$$\n",
    "\n",
    "The solutions to the equation are given by the formulas:\n",
    "\n",
    "$$x_1 = \\frac{-b + \\sqrt{b^2 - 4ac}}{2a}$$\n",
    "\n",
    "and\n",
    "\n",
    "$$x_2 = \\frac{-b - \\sqrt{b^2 - 4ac}}{2a}$$\n",
    "\n"
   ]
  },
  {
   "cell_type": "markdown",
   "metadata": {},
   "source": [
    "Write a function that computes the roots of a quadratic equation and returns them as a tuple. Your function should take three parameters, a, b, and c. Note that if\n",
    "\n",
    "$$b^2 - 4ac < 0$$ \n",
    "\n",
    "then the roots will be complex. Hint: remember that Python has a built-in complex data type."
   ]
  },
  {
   "cell_type": "code",
   "execution_count": null,
   "metadata": {
    "collapsed": true,
    "nbgrader": {
     "grade": false,
     "grade_id": "Q7A",
     "locked": false,
     "solution": true
    }
   },
   "outputs": [],
   "source": [
    "def roots(a, b, c):\n",
    "    ''' Computes the roots of the quadratic equation with coefficients a, b, c, and returns\n",
    "        them as the tuple (x1, x2)\n",
    "    '''\n",
    "    ### BEGIN SOLUTION\n",
    "    ### END SOLUTION"
   ]
  },
  {
   "cell_type": "code",
   "execution_count": 40,
   "metadata": {
    "collapsed": true,
    "nbgrader": {
     "grade": true,
     "grade_id": "Q7B",
     "locked": true,
     "points": 2,
     "solution": false
    }
   },
   "outputs": [],
   "source": [
    "from nose.tools import assert_equal\n",
    "assert_equal(roots(1,2,3), ((-1+1.4142135623730951j), (-1-1.4142135623730951j)))\n",
    "assert_equal(roots(0,0,4), (0j, 0j))\n",
    "assert_equal(roots(-4,3,2), (-0.42539052967910607, 1.175390529679106))"
   ]
  },
  {
   "cell_type": "markdown",
   "metadata": {},
   "source": [
    "## 8. (2.5 points) The Game of Nims"
   ]
  },
  {
   "cell_type": "markdown",
   "metadata": {
    "collapsed": true,
    "nbgrader": {
     "grade": false,
     "grade_id": "import_5",
     "locked": false,
     "points": 1,
     "solution": false
    }
   },
   "source": [
    "In this game, two players sit in front of a pile of 100 stones. They take turns, each removing between 1 and 5 stones (assuming there are at least 5 stones left in the pile). The person who removes the last stone(s) wins.\n",
    "\n",
    "In this problem, you’ll write a function to play this game. It may seem tricky, so break it down into parts. Like many programs, we have to use nested loops (one loop inside another). In the outermost loop, we want to keep playing until we are out of stones. Inside that, we want to keep alternating players. You have the option of either writing two blocks of code, or keeping a variable that tracks the current player.\n",
    "\n",
    "We are going to use the `input` function to obtain the user's move. We might want to have an innermost loop that checks if the user’s input is valid. Is it a number? Is it a valid number (e.g. between 1 and 5)? Are there enough stones in the pile to take off this many? If any of these answers are no, we should tell the user and re-ask them the question.\n",
    "\n",
    "If you choose to write two blocks of code, the basic outline of the program should be something like this:\n",
    "\n",
    "    while [pile is not empty]:\n",
    "       while [player 1’s answer is not valid]:\n",
    "          [ask player 1]\n",
    "       [execute player 1’s move]\n",
    "       [same as above for player 2]\n",
    "       \n",
    "Be careful with the validity checks. Specifically, we want to keep asking player 1 for their choice as long as their answer is not valid, BUT we want to make sure we ask them at least ONCE. So, for example, we will want to keep a variable that tracks whether their answer is valid, and set it to `False` initially.\n",
    "\n",
    "There is no need to limit yourself to only one function! Use as many functions as you want in order to make the code more readable and modular.\n",
    "\n",
    "When you're finished, test each other's programs by playing them!"
   ]
  },
  {
   "cell_type": "code",
   "execution_count": null,
   "metadata": {
    "collapsed": true,
    "nbgrader": {
     "grade": true,
     "grade_id": "Q8A",
     "locked": false,
     "points": 4,
     "solution": true
    }
   },
   "outputs": [],
   "source": [
    "def play_nims(pile, max_stones):\n",
    "    '''\n",
    "    An interactive two-person game; also known as Stones.\n",
    "    @param pile: the number of stones in the pile to start\n",
    "    @param max_stones: the maximum number of stones you can take in one turn\n",
    "    '''\n",
    "\n",
    "## Basic structure of program (feel free to alter as you please):\n",
    "\n",
    "#    while [pile is not empty]:\n",
    "#        while [player 1's answer is not valid]:\n",
    "#            [ask player 1]\n",
    "#            [execute player 1's move]\n",
    "#       \n",
    "#        while [player 2's answer is not valid]:\n",
    "#            [ask player 2]\n",
    "#            [execute player 2's move]\n",
    "#\n",
    "#    print \"Game over\"\n",
    "### BEGIN SOLUTION\n",
    "### END SOLUTION"
   ]
  },
  {
   "cell_type": "code",
   "execution_count": null,
   "metadata": {
    "collapsed": true
   },
   "outputs": [],
   "source": []
  }
 ],
 "metadata": {
  "anaconda-cloud": {},
  "celltoolbar": "Create Assignment",
  "kernelspec": {
   "display_name": "Python 3",
   "language": "python",
   "name": "python3"
  },
  "language_info": {
   "codemirror_mode": {
    "name": "ipython",
    "version": 3
   },
   "file_extension": ".py",
   "mimetype": "text/x-python",
   "name": "python",
   "nbconvert_exporter": "python",
   "pygments_lexer": "ipython3",
   "version": "3.6.1"
  }
 },
 "nbformat": 4,
 "nbformat_minor": 1
}
